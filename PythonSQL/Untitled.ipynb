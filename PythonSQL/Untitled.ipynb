{
 "cells": [
  {
   "cell_type": "code",
   "execution_count": null,
   "metadata": {},
   "outputs": [],
   "source": [
    "(r'DRIVER={ODBC Driver 13 for SQL Server};' +\n",
    " ('SERVER={server},{port};'   +\n",
    "  'DATABASE={database};'      +\n",
    "  'UID={username};'           +\n",
    "  'PWD={password}').format(\n",
    "                server= 'sqlserver.testnet.corp',\n",
    "                  port= 1433,\n",
    "              database= 'AdventureWorksDW2012',\n",
    "              username= 'tanya',\n",
    "              password= 'Tanya1234')\n",
    ")"
   ]
  }
 ],
 "metadata": {
  "kernelspec": {
   "display_name": "Python 3",
   "language": "python",
   "name": "python3"
  },
  "language_info": {
   "codemirror_mode": {
    "name": "ipython",
    "version": 3
   },
   "file_extension": ".py",
   "mimetype": "text/x-python",
   "name": "python",
   "nbconvert_exporter": "python",
   "pygments_lexer": "ipython3",
   "version": "3.7.1"
  }
 },
 "nbformat": 4,
 "nbformat_minor": 2
}
