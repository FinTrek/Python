{
 "cells": [
  {
   "cell_type": "markdown",
   "metadata": {},
   "source": [
    "a module is simply a file containing Python definitions functions and statements putting code into\n",
    "\n",
    "modules is useful because of the ability to import the module functionality into your script a Python"
   ]
  },
  {
   "cell_type": "markdown",
   "metadata": {},
   "source": [
    "a package is just a way of collecting related modules\n",
    "\n",
    "together within a single tree like hierarchy very complex package like an umpire scrapie have hundreds\n",
    "\n",
    "of individual modules so putting them into a directory like structure keeps things organized and avoids"
   ]
  },
  {
   "cell_type": "markdown",
   "metadata": {},
   "source": [
    "step 1 : find package - GitHub is a great place for this\n",
    "step 2 : install package - dif process for Mac and PC\n",
    "step 3 : import package or part of package"
   ]
  },
  {
   "cell_type": "markdown",
   "metadata": {},
   "source": [
    "Install MAC\n",
    "terminal launch \n",
    "command t to launch another terminal window\n",
    "conda install packagename \n",
    "or \n",
    "pip install packagename"
   ]
  },
  {
   "cell_type": "markdown",
   "metadata": {},
   "source": [
    "import MAC (back in your code) you can either import packagename or just a piece of the package with from packagename.part import processname you need"
   ]
  },
  {
   "cell_type": "code",
   "execution_count": 1,
   "metadata": {},
   "outputs": [],
   "source": [
    "import scrapy"
   ]
  },
  {
   "cell_type": "code",
   "execution_count": 3,
   "metadata": {},
   "outputs": [],
   "source": [
    "from scrapy.crawler import CrawlerProcess"
   ]
  },
  {
   "cell_type": "markdown",
   "metadata": {},
   "source": [
    "scrapy. and arrow down to see various process\n",
    "also CrawlerProcess. and arrow down to see various process"
   ]
  },
  {
   "cell_type": "code",
   "execution_count": null,
   "metadata": {},
   "outputs": [],
   "source": []
  }
 ],
 "metadata": {
  "kernelspec": {
   "display_name": "Python 3",
   "language": "python",
   "name": "python3"
  },
  "language_info": {
   "codemirror_mode": {
    "name": "ipython",
    "version": 3
   },
   "file_extension": ".py",
   "mimetype": "text/x-python",
   "name": "python",
   "nbconvert_exporter": "python",
   "pygments_lexer": "ipython3",
   "version": "3.7.1"
  }
 },
 "nbformat": 4,
 "nbformat_minor": 2
}
